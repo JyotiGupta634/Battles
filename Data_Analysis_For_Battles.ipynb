{
  "nbformat": 4,
  "nbformat_minor": 0,
  "metadata": {
    "kernelspec": {
      "display_name": "Python 3",
      "language": "python",
      "name": "python3"
    },
    "language_info": {
      "codemirror_mode": {
        "name": "ipython",
        "version": 3
      },
      "file_extension": ".py",
      "mimetype": "text/x-python",
      "name": "python",
      "nbconvert_exporter": "python",
      "pygments_lexer": "ipython3",
      "version": "3.8.3"
    },
    "colab": {
      "name": "Data_Analysis_For_Battles.ipynb",
      "provenance": [],
      "collapsed_sections": [],
      "include_colab_link": true
    }
  },
  "cells": [
    {
      "cell_type": "markdown",
      "metadata": {
        "id": "view-in-github",
        "colab_type": "text"
      },
      "source": [
        "<a href=\"https://colab.research.google.com/github/JyotiGupta634/Battles/blob/main/Data_Analysis_For_Battles.ipynb\" target=\"_parent\"><img src=\"https://colab.research.google.com/assets/colab-badge.svg\" alt=\"Open In Colab\"/></a>"
      ]
    },
    {
      "cell_type": "code",
      "metadata": {
        "id": "JHDZXm16qUgo"
      },
      "source": [
        "import pandas as pd\n",
        "import numpy as np\n",
        "from matplotlib import pyplot as plt\n",
        "import seaborn as sns"
      ],
      "execution_count": 7,
      "outputs": []
    },
    {
      "cell_type": "code",
      "metadata": {
        "id": "qz6PKR67qUgp"
      },
      "source": [
        "battle = pd.read_csv('/content/drive/MyDrive/data/battles.csv')"
      ],
      "execution_count": 11,
      "outputs": []
    },
    {
      "cell_type": "code",
      "metadata": {
        "id": "GAKfLI7hqUgq",
        "colab": {
          "base_uri": "https://localhost:8080/",
          "height": 411
        },
        "outputId": "b44d4302-1408-427f-90e4-e59a6d16452c"
      },
      "source": [
        "battle.head()"
      ],
      "execution_count": 12,
      "outputs": [
        {
          "output_type": "execute_result",
          "data": {
            "text/html": [
              "<div>\n",
              "<style scoped>\n",
              "    .dataframe tbody tr th:only-of-type {\n",
              "        vertical-align: middle;\n",
              "    }\n",
              "\n",
              "    .dataframe tbody tr th {\n",
              "        vertical-align: top;\n",
              "    }\n",
              "\n",
              "    .dataframe thead th {\n",
              "        text-align: right;\n",
              "    }\n",
              "</style>\n",
              "<table border=\"1\" class=\"dataframe\">\n",
              "  <thead>\n",
              "    <tr style=\"text-align: right;\">\n",
              "      <th></th>\n",
              "      <th>name</th>\n",
              "      <th>year</th>\n",
              "      <th>battle_number</th>\n",
              "      <th>attacker_king</th>\n",
              "      <th>defender_king</th>\n",
              "      <th>attacker_1</th>\n",
              "      <th>attacker_2</th>\n",
              "      <th>attacker_3</th>\n",
              "      <th>attacker_4</th>\n",
              "      <th>defender_1</th>\n",
              "      <th>defender_2</th>\n",
              "      <th>defender_3</th>\n",
              "      <th>defender_4</th>\n",
              "      <th>attacker_outcome</th>\n",
              "      <th>battle_type</th>\n",
              "      <th>major_death</th>\n",
              "      <th>major_capture</th>\n",
              "      <th>attacker_size</th>\n",
              "      <th>defender_size</th>\n",
              "      <th>attacker_commander</th>\n",
              "      <th>defender_commander</th>\n",
              "      <th>summer</th>\n",
              "      <th>location</th>\n",
              "      <th>region</th>\n",
              "      <th>note</th>\n",
              "    </tr>\n",
              "  </thead>\n",
              "  <tbody>\n",
              "    <tr>\n",
              "      <th>0</th>\n",
              "      <td>Battle of the Golden Tooth</td>\n",
              "      <td>298</td>\n",
              "      <td>1</td>\n",
              "      <td>Joffrey/Tommen Baratheon</td>\n",
              "      <td>Robb Stark</td>\n",
              "      <td>Lannister</td>\n",
              "      <td>NaN</td>\n",
              "      <td>NaN</td>\n",
              "      <td>NaN</td>\n",
              "      <td>Tully</td>\n",
              "      <td>NaN</td>\n",
              "      <td>NaN</td>\n",
              "      <td>NaN</td>\n",
              "      <td>win</td>\n",
              "      <td>pitched battle</td>\n",
              "      <td>1.0</td>\n",
              "      <td>0.0</td>\n",
              "      <td>15000.0</td>\n",
              "      <td>4000.0</td>\n",
              "      <td>Jaime Lannister</td>\n",
              "      <td>Clement Piper, Vance</td>\n",
              "      <td>1.0</td>\n",
              "      <td>Golden Tooth</td>\n",
              "      <td>The Westerlands</td>\n",
              "      <td>NaN</td>\n",
              "    </tr>\n",
              "    <tr>\n",
              "      <th>1</th>\n",
              "      <td>Battle at the Mummer's Ford</td>\n",
              "      <td>298</td>\n",
              "      <td>2</td>\n",
              "      <td>Joffrey/Tommen Baratheon</td>\n",
              "      <td>Robb Stark</td>\n",
              "      <td>Lannister</td>\n",
              "      <td>NaN</td>\n",
              "      <td>NaN</td>\n",
              "      <td>NaN</td>\n",
              "      <td>Baratheon</td>\n",
              "      <td>NaN</td>\n",
              "      <td>NaN</td>\n",
              "      <td>NaN</td>\n",
              "      <td>win</td>\n",
              "      <td>ambush</td>\n",
              "      <td>1.0</td>\n",
              "      <td>0.0</td>\n",
              "      <td>NaN</td>\n",
              "      <td>120.0</td>\n",
              "      <td>Gregor Clegane</td>\n",
              "      <td>Beric Dondarrion</td>\n",
              "      <td>1.0</td>\n",
              "      <td>Mummer's Ford</td>\n",
              "      <td>The Riverlands</td>\n",
              "      <td>NaN</td>\n",
              "    </tr>\n",
              "    <tr>\n",
              "      <th>2</th>\n",
              "      <td>Battle of Riverrun</td>\n",
              "      <td>298</td>\n",
              "      <td>3</td>\n",
              "      <td>Joffrey/Tommen Baratheon</td>\n",
              "      <td>Robb Stark</td>\n",
              "      <td>Lannister</td>\n",
              "      <td>NaN</td>\n",
              "      <td>NaN</td>\n",
              "      <td>NaN</td>\n",
              "      <td>Tully</td>\n",
              "      <td>NaN</td>\n",
              "      <td>NaN</td>\n",
              "      <td>NaN</td>\n",
              "      <td>win</td>\n",
              "      <td>pitched battle</td>\n",
              "      <td>0.0</td>\n",
              "      <td>1.0</td>\n",
              "      <td>15000.0</td>\n",
              "      <td>10000.0</td>\n",
              "      <td>Jaime Lannister, Andros Brax</td>\n",
              "      <td>Edmure Tully, Tytos Blackwood</td>\n",
              "      <td>1.0</td>\n",
              "      <td>Riverrun</td>\n",
              "      <td>The Riverlands</td>\n",
              "      <td>NaN</td>\n",
              "    </tr>\n",
              "    <tr>\n",
              "      <th>3</th>\n",
              "      <td>Battle of the Green Fork</td>\n",
              "      <td>298</td>\n",
              "      <td>4</td>\n",
              "      <td>Robb Stark</td>\n",
              "      <td>Joffrey/Tommen Baratheon</td>\n",
              "      <td>Stark</td>\n",
              "      <td>NaN</td>\n",
              "      <td>NaN</td>\n",
              "      <td>NaN</td>\n",
              "      <td>Lannister</td>\n",
              "      <td>NaN</td>\n",
              "      <td>NaN</td>\n",
              "      <td>NaN</td>\n",
              "      <td>loss</td>\n",
              "      <td>pitched battle</td>\n",
              "      <td>1.0</td>\n",
              "      <td>1.0</td>\n",
              "      <td>18000.0</td>\n",
              "      <td>20000.0</td>\n",
              "      <td>Roose Bolton, Wylis Manderly, Medger Cerwyn, H...</td>\n",
              "      <td>Tywin Lannister, Gregor Clegane, Kevan Lannist...</td>\n",
              "      <td>1.0</td>\n",
              "      <td>Green Fork</td>\n",
              "      <td>The Riverlands</td>\n",
              "      <td>NaN</td>\n",
              "    </tr>\n",
              "    <tr>\n",
              "      <th>4</th>\n",
              "      <td>Battle of the Whispering Wood</td>\n",
              "      <td>298</td>\n",
              "      <td>5</td>\n",
              "      <td>Robb Stark</td>\n",
              "      <td>Joffrey/Tommen Baratheon</td>\n",
              "      <td>Stark</td>\n",
              "      <td>Tully</td>\n",
              "      <td>NaN</td>\n",
              "      <td>NaN</td>\n",
              "      <td>Lannister</td>\n",
              "      <td>NaN</td>\n",
              "      <td>NaN</td>\n",
              "      <td>NaN</td>\n",
              "      <td>win</td>\n",
              "      <td>ambush</td>\n",
              "      <td>1.0</td>\n",
              "      <td>1.0</td>\n",
              "      <td>1875.0</td>\n",
              "      <td>6000.0</td>\n",
              "      <td>Robb Stark, Brynden Tully</td>\n",
              "      <td>Jaime Lannister</td>\n",
              "      <td>1.0</td>\n",
              "      <td>Whispering Wood</td>\n",
              "      <td>The Riverlands</td>\n",
              "      <td>NaN</td>\n",
              "    </tr>\n",
              "  </tbody>\n",
              "</table>\n",
              "</div>"
            ],
            "text/plain": [
              "                            name  year  ...           region note\n",
              "0     Battle of the Golden Tooth   298  ...  The Westerlands  NaN\n",
              "1    Battle at the Mummer's Ford   298  ...   The Riverlands  NaN\n",
              "2             Battle of Riverrun   298  ...   The Riverlands  NaN\n",
              "3       Battle of the Green Fork   298  ...   The Riverlands  NaN\n",
              "4  Battle of the Whispering Wood   298  ...   The Riverlands  NaN\n",
              "\n",
              "[5 rows x 25 columns]"
            ]
          },
          "metadata": {
            "tags": []
          },
          "execution_count": 12
        }
      ]
    },
    {
      "cell_type": "code",
      "metadata": {
        "id": "WI4BaggSqUgs",
        "outputId": "901df96e-96f5-4a02-aa2f-c30a0bb2a01a"
      },
      "source": [
        "battle.shape"
      ],
      "execution_count": null,
      "outputs": [
        {
          "output_type": "execute_result",
          "data": {
            "text/plain": [
              "(38, 25)"
            ]
          },
          "metadata": {
            "tags": []
          },
          "execution_count": 4
        }
      ]
    },
    {
      "cell_type": "code",
      "metadata": {
        "id": "ekHUtbFuqUgt",
        "outputId": "8e9abb30-5acb-440f-e6eb-d004adfb4610"
      },
      "source": [
        "battle.rename(columns={'attacker_1':'primary_attacker'},inplace=True)\n",
        "battle.head()"
      ],
      "execution_count": null,
      "outputs": [
        {
          "output_type": "execute_result",
          "data": {
            "text/html": [
              "<div>\n",
              "<style scoped>\n",
              "    .dataframe tbody tr th:only-of-type {\n",
              "        vertical-align: middle;\n",
              "    }\n",
              "\n",
              "    .dataframe tbody tr th {\n",
              "        vertical-align: top;\n",
              "    }\n",
              "\n",
              "    .dataframe thead th {\n",
              "        text-align: right;\n",
              "    }\n",
              "</style>\n",
              "<table border=\"1\" class=\"dataframe\">\n",
              "  <thead>\n",
              "    <tr style=\"text-align: right;\">\n",
              "      <th></th>\n",
              "      <th>name</th>\n",
              "      <th>year</th>\n",
              "      <th>battle_number</th>\n",
              "      <th>attacker_king</th>\n",
              "      <th>defender_king</th>\n",
              "      <th>primary_attacker</th>\n",
              "      <th>attacker_2</th>\n",
              "      <th>attacker_3</th>\n",
              "      <th>attacker_4</th>\n",
              "      <th>defender_1</th>\n",
              "      <th>...</th>\n",
              "      <th>major_death</th>\n",
              "      <th>major_capture</th>\n",
              "      <th>attacker_size</th>\n",
              "      <th>defender_size</th>\n",
              "      <th>attacker_commander</th>\n",
              "      <th>defender_commander</th>\n",
              "      <th>summer</th>\n",
              "      <th>location</th>\n",
              "      <th>region</th>\n",
              "      <th>note</th>\n",
              "    </tr>\n",
              "  </thead>\n",
              "  <tbody>\n",
              "    <tr>\n",
              "      <th>0</th>\n",
              "      <td>Battle of the Golden Tooth</td>\n",
              "      <td>298</td>\n",
              "      <td>1</td>\n",
              "      <td>Joffrey/Tommen Baratheon</td>\n",
              "      <td>Robb Stark</td>\n",
              "      <td>Lannister</td>\n",
              "      <td>NaN</td>\n",
              "      <td>NaN</td>\n",
              "      <td>NaN</td>\n",
              "      <td>Tully</td>\n",
              "      <td>...</td>\n",
              "      <td>1.0</td>\n",
              "      <td>0.0</td>\n",
              "      <td>15000.0</td>\n",
              "      <td>4000.0</td>\n",
              "      <td>Jaime Lannister</td>\n",
              "      <td>Clement Piper, Vance</td>\n",
              "      <td>1.0</td>\n",
              "      <td>Golden Tooth</td>\n",
              "      <td>The Westerlands</td>\n",
              "      <td>NaN</td>\n",
              "    </tr>\n",
              "    <tr>\n",
              "      <th>1</th>\n",
              "      <td>Battle at the Mummer's Ford</td>\n",
              "      <td>298</td>\n",
              "      <td>2</td>\n",
              "      <td>Joffrey/Tommen Baratheon</td>\n",
              "      <td>Robb Stark</td>\n",
              "      <td>Lannister</td>\n",
              "      <td>NaN</td>\n",
              "      <td>NaN</td>\n",
              "      <td>NaN</td>\n",
              "      <td>Baratheon</td>\n",
              "      <td>...</td>\n",
              "      <td>1.0</td>\n",
              "      <td>0.0</td>\n",
              "      <td>NaN</td>\n",
              "      <td>120.0</td>\n",
              "      <td>Gregor Clegane</td>\n",
              "      <td>Beric Dondarrion</td>\n",
              "      <td>1.0</td>\n",
              "      <td>Mummer's Ford</td>\n",
              "      <td>The Riverlands</td>\n",
              "      <td>NaN</td>\n",
              "    </tr>\n",
              "    <tr>\n",
              "      <th>2</th>\n",
              "      <td>Battle of Riverrun</td>\n",
              "      <td>298</td>\n",
              "      <td>3</td>\n",
              "      <td>Joffrey/Tommen Baratheon</td>\n",
              "      <td>Robb Stark</td>\n",
              "      <td>Lannister</td>\n",
              "      <td>NaN</td>\n",
              "      <td>NaN</td>\n",
              "      <td>NaN</td>\n",
              "      <td>Tully</td>\n",
              "      <td>...</td>\n",
              "      <td>0.0</td>\n",
              "      <td>1.0</td>\n",
              "      <td>15000.0</td>\n",
              "      <td>10000.0</td>\n",
              "      <td>Jaime Lannister, Andros Brax</td>\n",
              "      <td>Edmure Tully, Tytos Blackwood</td>\n",
              "      <td>1.0</td>\n",
              "      <td>Riverrun</td>\n",
              "      <td>The Riverlands</td>\n",
              "      <td>NaN</td>\n",
              "    </tr>\n",
              "    <tr>\n",
              "      <th>3</th>\n",
              "      <td>Battle of the Green Fork</td>\n",
              "      <td>298</td>\n",
              "      <td>4</td>\n",
              "      <td>Robb Stark</td>\n",
              "      <td>Joffrey/Tommen Baratheon</td>\n",
              "      <td>Stark</td>\n",
              "      <td>NaN</td>\n",
              "      <td>NaN</td>\n",
              "      <td>NaN</td>\n",
              "      <td>Lannister</td>\n",
              "      <td>...</td>\n",
              "      <td>1.0</td>\n",
              "      <td>1.0</td>\n",
              "      <td>18000.0</td>\n",
              "      <td>20000.0</td>\n",
              "      <td>Roose Bolton, Wylis Manderly, Medger Cerwyn, H...</td>\n",
              "      <td>Tywin Lannister, Gregor Clegane, Kevan Lannist...</td>\n",
              "      <td>1.0</td>\n",
              "      <td>Green Fork</td>\n",
              "      <td>The Riverlands</td>\n",
              "      <td>NaN</td>\n",
              "    </tr>\n",
              "    <tr>\n",
              "      <th>4</th>\n",
              "      <td>Battle of the Whispering Wood</td>\n",
              "      <td>298</td>\n",
              "      <td>5</td>\n",
              "      <td>Robb Stark</td>\n",
              "      <td>Joffrey/Tommen Baratheon</td>\n",
              "      <td>Stark</td>\n",
              "      <td>Tully</td>\n",
              "      <td>NaN</td>\n",
              "      <td>NaN</td>\n",
              "      <td>Lannister</td>\n",
              "      <td>...</td>\n",
              "      <td>1.0</td>\n",
              "      <td>1.0</td>\n",
              "      <td>1875.0</td>\n",
              "      <td>6000.0</td>\n",
              "      <td>Robb Stark, Brynden Tully</td>\n",
              "      <td>Jaime Lannister</td>\n",
              "      <td>1.0</td>\n",
              "      <td>Whispering Wood</td>\n",
              "      <td>The Riverlands</td>\n",
              "      <td>NaN</td>\n",
              "    </tr>\n",
              "  </tbody>\n",
              "</table>\n",
              "<p>5 rows × 25 columns</p>\n",
              "</div>"
            ],
            "text/plain": [
              "                            name  year  battle_number  \\\n",
              "0     Battle of the Golden Tooth   298              1   \n",
              "1    Battle at the Mummer's Ford   298              2   \n",
              "2             Battle of Riverrun   298              3   \n",
              "3       Battle of the Green Fork   298              4   \n",
              "4  Battle of the Whispering Wood   298              5   \n",
              "\n",
              "              attacker_king             defender_king primary_attacker  \\\n",
              "0  Joffrey/Tommen Baratheon                Robb Stark        Lannister   \n",
              "1  Joffrey/Tommen Baratheon                Robb Stark        Lannister   \n",
              "2  Joffrey/Tommen Baratheon                Robb Stark        Lannister   \n",
              "3                Robb Stark  Joffrey/Tommen Baratheon            Stark   \n",
              "4                Robb Stark  Joffrey/Tommen Baratheon            Stark   \n",
              "\n",
              "  attacker_2 attacker_3 attacker_4 defender_1  ... major_death  major_capture  \\\n",
              "0        NaN        NaN        NaN      Tully  ...         1.0            0.0   \n",
              "1        NaN        NaN        NaN  Baratheon  ...         1.0            0.0   \n",
              "2        NaN        NaN        NaN      Tully  ...         0.0            1.0   \n",
              "3        NaN        NaN        NaN  Lannister  ...         1.0            1.0   \n",
              "4      Tully        NaN        NaN  Lannister  ...         1.0            1.0   \n",
              "\n",
              "   attacker_size defender_size  \\\n",
              "0        15000.0        4000.0   \n",
              "1            NaN         120.0   \n",
              "2        15000.0       10000.0   \n",
              "3        18000.0       20000.0   \n",
              "4         1875.0        6000.0   \n",
              "\n",
              "                                  attacker_commander  \\\n",
              "0                                    Jaime Lannister   \n",
              "1                                     Gregor Clegane   \n",
              "2                       Jaime Lannister, Andros Brax   \n",
              "3  Roose Bolton, Wylis Manderly, Medger Cerwyn, H...   \n",
              "4                          Robb Stark, Brynden Tully   \n",
              "\n",
              "                                  defender_commander  summer         location  \\\n",
              "0                               Clement Piper, Vance     1.0     Golden Tooth   \n",
              "1                                   Beric Dondarrion     1.0    Mummer's Ford   \n",
              "2                      Edmure Tully, Tytos Blackwood     1.0         Riverrun   \n",
              "3  Tywin Lannister, Gregor Clegane, Kevan Lannist...     1.0       Green Fork   \n",
              "4                                    Jaime Lannister     1.0  Whispering Wood   \n",
              "\n",
              "            region note  \n",
              "0  The Westerlands  NaN  \n",
              "1   The Riverlands  NaN  \n",
              "2   The Riverlands  NaN  \n",
              "3   The Riverlands  NaN  \n",
              "4   The Riverlands  NaN  \n",
              "\n",
              "[5 rows x 25 columns]"
            ]
          },
          "metadata": {
            "tags": []
          },
          "execution_count": 5
        }
      ]
    },
    {
      "cell_type": "code",
      "metadata": {
        "id": "Ner2SNDCqUgu",
        "outputId": "c36bcf47-e767-430f-9ddd-5d5c175ace42"
      },
      "source": [
        "battle.rename(columns={'defender_1':'primary_defender'},inplace=True)\n",
        "battle.head()"
      ],
      "execution_count": null,
      "outputs": [
        {
          "output_type": "execute_result",
          "data": {
            "text/html": [
              "<div>\n",
              "<style scoped>\n",
              "    .dataframe tbody tr th:only-of-type {\n",
              "        vertical-align: middle;\n",
              "    }\n",
              "\n",
              "    .dataframe tbody tr th {\n",
              "        vertical-align: top;\n",
              "    }\n",
              "\n",
              "    .dataframe thead th {\n",
              "        text-align: right;\n",
              "    }\n",
              "</style>\n",
              "<table border=\"1\" class=\"dataframe\">\n",
              "  <thead>\n",
              "    <tr style=\"text-align: right;\">\n",
              "      <th></th>\n",
              "      <th>name</th>\n",
              "      <th>year</th>\n",
              "      <th>battle_number</th>\n",
              "      <th>attacker_king</th>\n",
              "      <th>defender_king</th>\n",
              "      <th>primary_attacker</th>\n",
              "      <th>attacker_2</th>\n",
              "      <th>attacker_3</th>\n",
              "      <th>attacker_4</th>\n",
              "      <th>primary_defender</th>\n",
              "      <th>...</th>\n",
              "      <th>major_death</th>\n",
              "      <th>major_capture</th>\n",
              "      <th>attacker_size</th>\n",
              "      <th>defender_size</th>\n",
              "      <th>attacker_commander</th>\n",
              "      <th>defender_commander</th>\n",
              "      <th>summer</th>\n",
              "      <th>location</th>\n",
              "      <th>region</th>\n",
              "      <th>note</th>\n",
              "    </tr>\n",
              "  </thead>\n",
              "  <tbody>\n",
              "    <tr>\n",
              "      <th>0</th>\n",
              "      <td>Battle of the Golden Tooth</td>\n",
              "      <td>298</td>\n",
              "      <td>1</td>\n",
              "      <td>Joffrey/Tommen Baratheon</td>\n",
              "      <td>Robb Stark</td>\n",
              "      <td>Lannister</td>\n",
              "      <td>NaN</td>\n",
              "      <td>NaN</td>\n",
              "      <td>NaN</td>\n",
              "      <td>Tully</td>\n",
              "      <td>...</td>\n",
              "      <td>1.0</td>\n",
              "      <td>0.0</td>\n",
              "      <td>15000.0</td>\n",
              "      <td>4000.0</td>\n",
              "      <td>Jaime Lannister</td>\n",
              "      <td>Clement Piper, Vance</td>\n",
              "      <td>1.0</td>\n",
              "      <td>Golden Tooth</td>\n",
              "      <td>The Westerlands</td>\n",
              "      <td>NaN</td>\n",
              "    </tr>\n",
              "    <tr>\n",
              "      <th>1</th>\n",
              "      <td>Battle at the Mummer's Ford</td>\n",
              "      <td>298</td>\n",
              "      <td>2</td>\n",
              "      <td>Joffrey/Tommen Baratheon</td>\n",
              "      <td>Robb Stark</td>\n",
              "      <td>Lannister</td>\n",
              "      <td>NaN</td>\n",
              "      <td>NaN</td>\n",
              "      <td>NaN</td>\n",
              "      <td>Baratheon</td>\n",
              "      <td>...</td>\n",
              "      <td>1.0</td>\n",
              "      <td>0.0</td>\n",
              "      <td>NaN</td>\n",
              "      <td>120.0</td>\n",
              "      <td>Gregor Clegane</td>\n",
              "      <td>Beric Dondarrion</td>\n",
              "      <td>1.0</td>\n",
              "      <td>Mummer's Ford</td>\n",
              "      <td>The Riverlands</td>\n",
              "      <td>NaN</td>\n",
              "    </tr>\n",
              "    <tr>\n",
              "      <th>2</th>\n",
              "      <td>Battle of Riverrun</td>\n",
              "      <td>298</td>\n",
              "      <td>3</td>\n",
              "      <td>Joffrey/Tommen Baratheon</td>\n",
              "      <td>Robb Stark</td>\n",
              "      <td>Lannister</td>\n",
              "      <td>NaN</td>\n",
              "      <td>NaN</td>\n",
              "      <td>NaN</td>\n",
              "      <td>Tully</td>\n",
              "      <td>...</td>\n",
              "      <td>0.0</td>\n",
              "      <td>1.0</td>\n",
              "      <td>15000.0</td>\n",
              "      <td>10000.0</td>\n",
              "      <td>Jaime Lannister, Andros Brax</td>\n",
              "      <td>Edmure Tully, Tytos Blackwood</td>\n",
              "      <td>1.0</td>\n",
              "      <td>Riverrun</td>\n",
              "      <td>The Riverlands</td>\n",
              "      <td>NaN</td>\n",
              "    </tr>\n",
              "    <tr>\n",
              "      <th>3</th>\n",
              "      <td>Battle of the Green Fork</td>\n",
              "      <td>298</td>\n",
              "      <td>4</td>\n",
              "      <td>Robb Stark</td>\n",
              "      <td>Joffrey/Tommen Baratheon</td>\n",
              "      <td>Stark</td>\n",
              "      <td>NaN</td>\n",
              "      <td>NaN</td>\n",
              "      <td>NaN</td>\n",
              "      <td>Lannister</td>\n",
              "      <td>...</td>\n",
              "      <td>1.0</td>\n",
              "      <td>1.0</td>\n",
              "      <td>18000.0</td>\n",
              "      <td>20000.0</td>\n",
              "      <td>Roose Bolton, Wylis Manderly, Medger Cerwyn, H...</td>\n",
              "      <td>Tywin Lannister, Gregor Clegane, Kevan Lannist...</td>\n",
              "      <td>1.0</td>\n",
              "      <td>Green Fork</td>\n",
              "      <td>The Riverlands</td>\n",
              "      <td>NaN</td>\n",
              "    </tr>\n",
              "    <tr>\n",
              "      <th>4</th>\n",
              "      <td>Battle of the Whispering Wood</td>\n",
              "      <td>298</td>\n",
              "      <td>5</td>\n",
              "      <td>Robb Stark</td>\n",
              "      <td>Joffrey/Tommen Baratheon</td>\n",
              "      <td>Stark</td>\n",
              "      <td>Tully</td>\n",
              "      <td>NaN</td>\n",
              "      <td>NaN</td>\n",
              "      <td>Lannister</td>\n",
              "      <td>...</td>\n",
              "      <td>1.0</td>\n",
              "      <td>1.0</td>\n",
              "      <td>1875.0</td>\n",
              "      <td>6000.0</td>\n",
              "      <td>Robb Stark, Brynden Tully</td>\n",
              "      <td>Jaime Lannister</td>\n",
              "      <td>1.0</td>\n",
              "      <td>Whispering Wood</td>\n",
              "      <td>The Riverlands</td>\n",
              "      <td>NaN</td>\n",
              "    </tr>\n",
              "  </tbody>\n",
              "</table>\n",
              "<p>5 rows × 25 columns</p>\n",
              "</div>"
            ],
            "text/plain": [
              "                            name  year  battle_number  \\\n",
              "0     Battle of the Golden Tooth   298              1   \n",
              "1    Battle at the Mummer's Ford   298              2   \n",
              "2             Battle of Riverrun   298              3   \n",
              "3       Battle of the Green Fork   298              4   \n",
              "4  Battle of the Whispering Wood   298              5   \n",
              "\n",
              "              attacker_king             defender_king primary_attacker  \\\n",
              "0  Joffrey/Tommen Baratheon                Robb Stark        Lannister   \n",
              "1  Joffrey/Tommen Baratheon                Robb Stark        Lannister   \n",
              "2  Joffrey/Tommen Baratheon                Robb Stark        Lannister   \n",
              "3                Robb Stark  Joffrey/Tommen Baratheon            Stark   \n",
              "4                Robb Stark  Joffrey/Tommen Baratheon            Stark   \n",
              "\n",
              "  attacker_2 attacker_3 attacker_4 primary_defender  ... major_death  \\\n",
              "0        NaN        NaN        NaN            Tully  ...         1.0   \n",
              "1        NaN        NaN        NaN        Baratheon  ...         1.0   \n",
              "2        NaN        NaN        NaN            Tully  ...         0.0   \n",
              "3        NaN        NaN        NaN        Lannister  ...         1.0   \n",
              "4      Tully        NaN        NaN        Lannister  ...         1.0   \n",
              "\n",
              "   major_capture  attacker_size defender_size  \\\n",
              "0            0.0        15000.0        4000.0   \n",
              "1            0.0            NaN         120.0   \n",
              "2            1.0        15000.0       10000.0   \n",
              "3            1.0        18000.0       20000.0   \n",
              "4            1.0         1875.0        6000.0   \n",
              "\n",
              "                                  attacker_commander  \\\n",
              "0                                    Jaime Lannister   \n",
              "1                                     Gregor Clegane   \n",
              "2                       Jaime Lannister, Andros Brax   \n",
              "3  Roose Bolton, Wylis Manderly, Medger Cerwyn, H...   \n",
              "4                          Robb Stark, Brynden Tully   \n",
              "\n",
              "                                  defender_commander  summer         location  \\\n",
              "0                               Clement Piper, Vance     1.0     Golden Tooth   \n",
              "1                                   Beric Dondarrion     1.0    Mummer's Ford   \n",
              "2                      Edmure Tully, Tytos Blackwood     1.0         Riverrun   \n",
              "3  Tywin Lannister, Gregor Clegane, Kevan Lannist...     1.0       Green Fork   \n",
              "4                                    Jaime Lannister     1.0  Whispering Wood   \n",
              "\n",
              "            region note  \n",
              "0  The Westerlands  NaN  \n",
              "1   The Riverlands  NaN  \n",
              "2   The Riverlands  NaN  \n",
              "3   The Riverlands  NaN  \n",
              "4   The Riverlands  NaN  \n",
              "\n",
              "[5 rows x 25 columns]"
            ]
          },
          "metadata": {
            "tags": []
          },
          "execution_count": 6
        }
      ]
    },
    {
      "cell_type": "code",
      "metadata": {
        "id": "k81M4CmtqUgv",
        "outputId": "1768a526-3fb0-4e8d-ea89-9a279283c8ff"
      },
      "source": [
        "battle['attacker_king'].value_counts()"
      ],
      "execution_count": null,
      "outputs": [
        {
          "output_type": "execute_result",
          "data": {
            "text/plain": [
              "Joffrey/Tommen Baratheon    14\n",
              "Robb Stark                  10\n",
              "Balon/Euron Greyjoy          7\n",
              "Stannis Baratheon            5\n",
              "Name: attacker_king, dtype: int64"
            ]
          },
          "metadata": {
            "tags": []
          },
          "execution_count": 7
        }
      ]
    },
    {
      "cell_type": "code",
      "metadata": {
        "id": "ZbtHeR3cqUgw",
        "outputId": "321b81fd-e356-4bf4-d7c0-ad537076c8ac"
      },
      "source": [
        "battle['location'].value_counts()"
      ],
      "execution_count": null,
      "outputs": [
        {
          "output_type": "execute_result",
          "data": {
            "text/plain": [
              "Winterfell                              3\n",
              "Riverrun                                3\n",
              "Storm's End                             2\n",
              "Deepwood Motte                          2\n",
              "Moat Cailin                             2\n",
              "Harrenhal                               2\n",
              "Torrhen's Square                        2\n",
              "Darry                                   2\n",
              "Seagard                                 1\n",
              "Oxcross                                 1\n",
              "Stony Shore                             1\n",
              "Shield Islands                          1\n",
              "Castle Black                            1\n",
              "Ryamsport, Vinetown, Starfish Harbor    1\n",
              "Ruby Ford                               1\n",
              "Whispering Wood                         1\n",
              "Golden Tooth                            1\n",
              "Saltpans                                1\n",
              "The Twins                               1\n",
              "Raventree                               1\n",
              "Red Fork                                1\n",
              "Duskendale                              1\n",
              "Green Fork                              1\n",
              "Mummer's Ford                           1\n",
              "Crag                                    1\n",
              "Dragonstone                             1\n",
              "King's Landing                          1\n",
              "Name: location, dtype: int64"
            ]
          },
          "metadata": {
            "tags": []
          },
          "execution_count": 8
        }
      ]
    },
    {
      "cell_type": "code",
      "metadata": {
        "id": "x-cXmKNGqUgw",
        "outputId": "1d31e7ae-551c-4713-c854-bfa531a0ca87"
      },
      "source": [
        "sns.set(rc={'figure.figsize':(13,5)})\n",
        "sns.barplot(x='attacker_king',y='attacker_size',data=battle)\n",
        "plt.show()"
      ],
      "execution_count": null,
      "outputs": [
        {
          "output_type": "display_data",
          "data": {
            "image/png": "[encoded data removed]",
            "text/plain": [
              "<Figure size 936x360 with 1 Axes>"
            ]
          },
          "metadata": {
            "tags": []
          }
        }
      ]
    },
    {
      "cell_type": "code",
      "metadata": {
        "id": "qx_d3bpnqUgx",
        "outputId": "d7abb496-1fb3-42f8-d4ec-fee056f13723"
      },
      "source": [
        "sns.set(rc={'figure.figsize':(13,5)})\n",
        "sns.barplot(x='defender_king',y='defender_size',data=battle)\n",
        "plt.show()"
      ],
      "execution_count": null,
      "outputs": [
        {
          "output_type": "display_data",
          "data": {
            "image/png": "[encoded data removed]",
            "text/plain": [
              "<Figure size 936x360 with 1 Axes>"
            ]
          },
          "metadata": {
            "tags": []
          }
        }
      ]
    },
    {
      "cell_type": "code",
      "metadata": {
        "id": "lKMa6aDjqUgy",
        "outputId": "f1ddc987-7841-414c-c068-90331b6fa5b7"
      },
      "source": [
        "sns.countplot(x=battle['attacker_king'],hue=battle['battle_type'])\n",
        "plt.show()"
      ],
      "execution_count": null,
      "outputs": [
        {
          "output_type": "display_data",
          "data": {
            "image/png": "[encoded data removed]",
            "text/plain": [
              "<Figure size 936x360 with 1 Axes>"
            ]
          },
          "metadata": {
            "tags": []
          }
        }
      ]
    },
    {
      "cell_type": "code",
      "metadata": {
        "id": "vtge1CzaqUgy",
        "outputId": "af4c9f99-f66b-4d9a-8c85-8a2c3934726d"
      },
      "source": [
        "death = pd.read_csv('character-deaths.csv')\n",
        "death.head()"
      ],
      "execution_count": null,
      "outputs": [
        {
          "output_type": "execute_result",
          "data": {
            "text/html": [
              "<div>\n",
              "<style scoped>\n",
              "    .dataframe tbody tr th:only-of-type {\n",
              "        vertical-align: middle;\n",
              "    }\n",
              "\n",
              "    .dataframe tbody tr th {\n",
              "        vertical-align: top;\n",
              "    }\n",
              "\n",
              "    .dataframe thead th {\n",
              "        text-align: right;\n",
              "    }\n",
              "</style>\n",
              "<table border=\"1\" class=\"dataframe\">\n",
              "  <thead>\n",
              "    <tr style=\"text-align: right;\">\n",
              "      <th></th>\n",
              "      <th>Name</th>\n",
              "      <th>Allegiances</th>\n",
              "      <th>Death Year</th>\n",
              "      <th>Book of Death</th>\n",
              "      <th>Death Chapter</th>\n",
              "      <th>Book Intro Chapter</th>\n",
              "      <th>Gender</th>\n",
              "      <th>Nobility</th>\n",
              "      <th>GoT</th>\n",
              "      <th>CoK</th>\n",
              "      <th>SoS</th>\n",
              "      <th>FfC</th>\n",
              "      <th>DwD</th>\n",
              "    </tr>\n",
              "  </thead>\n",
              "  <tbody>\n",
              "    <tr>\n",
              "      <th>0</th>\n",
              "      <td>Addam Marbrand</td>\n",
              "      <td>Lannister</td>\n",
              "      <td>NaN</td>\n",
              "      <td>NaN</td>\n",
              "      <td>NaN</td>\n",
              "      <td>56.0</td>\n",
              "      <td>1</td>\n",
              "      <td>1</td>\n",
              "      <td>1</td>\n",
              "      <td>1</td>\n",
              "      <td>1</td>\n",
              "      <td>1</td>\n",
              "      <td>0</td>\n",
              "    </tr>\n",
              "    <tr>\n",
              "      <th>1</th>\n",
              "      <td>Aegon Frey (Jinglebell)</td>\n",
              "      <td>None</td>\n",
              "      <td>299.0</td>\n",
              "      <td>3.0</td>\n",
              "      <td>51.0</td>\n",
              "      <td>49.0</td>\n",
              "      <td>1</td>\n",
              "      <td>1</td>\n",
              "      <td>0</td>\n",
              "      <td>0</td>\n",
              "      <td>1</td>\n",
              "      <td>0</td>\n",
              "      <td>0</td>\n",
              "    </tr>\n",
              "    <tr>\n",
              "      <th>2</th>\n",
              "      <td>Aegon Targaryen</td>\n",
              "      <td>House Targaryen</td>\n",
              "      <td>NaN</td>\n",
              "      <td>NaN</td>\n",
              "      <td>NaN</td>\n",
              "      <td>5.0</td>\n",
              "      <td>1</td>\n",
              "      <td>1</td>\n",
              "      <td>0</td>\n",
              "      <td>0</td>\n",
              "      <td>0</td>\n",
              "      <td>0</td>\n",
              "      <td>1</td>\n",
              "    </tr>\n",
              "    <tr>\n",
              "      <th>3</th>\n",
              "      <td>Adrack Humble</td>\n",
              "      <td>House Greyjoy</td>\n",
              "      <td>300.0</td>\n",
              "      <td>5.0</td>\n",
              "      <td>20.0</td>\n",
              "      <td>20.0</td>\n",
              "      <td>1</td>\n",
              "      <td>1</td>\n",
              "      <td>0</td>\n",
              "      <td>0</td>\n",
              "      <td>0</td>\n",
              "      <td>0</td>\n",
              "      <td>1</td>\n",
              "    </tr>\n",
              "    <tr>\n",
              "      <th>4</th>\n",
              "      <td>Aemon Costayne</td>\n",
              "      <td>Lannister</td>\n",
              "      <td>NaN</td>\n",
              "      <td>NaN</td>\n",
              "      <td>NaN</td>\n",
              "      <td>NaN</td>\n",
              "      <td>1</td>\n",
              "      <td>1</td>\n",
              "      <td>0</td>\n",
              "      <td>0</td>\n",
              "      <td>1</td>\n",
              "      <td>0</td>\n",
              "      <td>0</td>\n",
              "    </tr>\n",
              "  </tbody>\n",
              "</table>\n",
              "</div>"
            ],
            "text/plain": [
              "                      Name      Allegiances  Death Year  Book of Death  \\\n",
              "0           Addam Marbrand        Lannister         NaN            NaN   \n",
              "1  Aegon Frey (Jinglebell)             None       299.0            3.0   \n",
              "2          Aegon Targaryen  House Targaryen         NaN            NaN   \n",
              "3            Adrack Humble    House Greyjoy       300.0            5.0   \n",
              "4           Aemon Costayne        Lannister         NaN            NaN   \n",
              "\n",
              "   Death Chapter  Book Intro Chapter  Gender  Nobility  GoT  CoK  SoS  FfC  \\\n",
              "0            NaN                56.0       1         1    1    1    1    1   \n",
              "1           51.0                49.0       1         1    0    0    1    0   \n",
              "2            NaN                 5.0       1         1    0    0    0    0   \n",
              "3           20.0                20.0       1         1    0    0    0    0   \n",
              "4            NaN                 NaN       1         1    0    0    1    0   \n",
              "\n",
              "   DwD  \n",
              "0    0  \n",
              "1    0  \n",
              "2    1  \n",
              "3    1  \n",
              "4    0  "
            ]
          },
          "metadata": {
            "tags": []
          },
          "execution_count": 12
        }
      ]
    },
    {
      "cell_type": "code",
      "metadata": {
        "id": "9gEAGk1rqUgz",
        "outputId": "5811c246-0c5a-4d62-b7f1-a2b939324c6a"
      },
      "source": [
        "death.shape"
      ],
      "execution_count": null,
      "outputs": [
        {
          "output_type": "execute_result",
          "data": {
            "text/plain": [
              "(917, 13)"
            ]
          },
          "metadata": {
            "tags": []
          },
          "execution_count": 13
        }
      ]
    },
    {
      "cell_type": "code",
      "metadata": {
        "id": "--IQH4MmqUgz",
        "outputId": "3e2dea32-84f8-41d4-c6da-c84e698f36ee"
      },
      "source": [
        "death['Gender'].value_counts()"
      ],
      "execution_count": null,
      "outputs": [
        {
          "output_type": "execute_result",
          "data": {
            "text/plain": [
              "1    760\n",
              "0    157\n",
              "Name: Gender, dtype: int64"
            ]
          },
          "metadata": {
            "tags": []
          },
          "execution_count": 14
        }
      ]
    },
    {
      "cell_type": "code",
      "metadata": {
        "id": "jDzd8mRIqUg0",
        "outputId": "36326ec8-c8b7-47aa-c8df-e50db5c423aa"
      },
      "source": [
        "death['Nobility'].value_counts()"
      ],
      "execution_count": null,
      "outputs": [
        {
          "output_type": "execute_result",
          "data": {
            "text/plain": [
              "0    487\n",
              "1    430\n",
              "Name: Nobility, dtype: int64"
            ]
          },
          "metadata": {
            "tags": []
          },
          "execution_count": 15
        }
      ]
    },
    {
      "cell_type": "code",
      "metadata": {
        "id": "9oq6JEBgqUg0",
        "outputId": "c27df3b5-bb57-4d67-ada3-888c19ffecf3"
      },
      "source": [
        "sns.countplot(death['Death Year'])\n",
        "plt.show()"
      ],
      "execution_count": null,
      "outputs": [
        {
          "output_type": "stream",
          "text": [
            "C:\\Users\\admin\\anaconda3\\lib\\site-packages\\seaborn\\_decorators.py:36: FutureWarning: Pass the following variable as a keyword arg: x. From version 0.12, the only valid positional argument will be `data`, and passing other arguments without an explicit keyword will result in an error or misinterpretation.\n",
            "  warnings.warn(\n"
          ],
          "name": "stderr"
        },
        {
          "output_type": "display_data",
          "data": {
            "image/png": "[encoded data removed]",
            "text/plain": [
              "<Figure size 936x360 with 1 Axes>"
            ]
          },
          "metadata": {
            "tags": []
          }
        }
      ]
    },
    {
      "cell_type": "code",
      "metadata": {
        "id": "0BFcWeRLqUg1"
      },
      "source": [
        ""
      ],
      "execution_count": null,
      "outputs": []
    }
  ]
}